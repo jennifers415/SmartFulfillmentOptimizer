{
 "cells": [
  {
   "cell_type": "code",
   "execution_count": null,
   "id": "15fae21d",
   "metadata": {
    "vscode": {
     "languageId": "plaintext"
    }
   },
   "outputs": [],
   "source": [
    "# %%\n",
    "import pandas as pd\n",
    "\n",
    "orders = pd.read_csv(\"../data/raw/synthetic_orders.csv\")\n",
    "warehouses = pd.read_csv(\"../data/raw/warehouses.csv\")\n",
    "inventory = pd.read_csv(\"../data/raw/inventory.csv\")\n",
    "\n",
    "# %%\n",
    "orders.head()\n",
    "\n",
    "# %%\n",
    "# Orders per region\n",
    "orders[\"region\"].value_counts().plot(kind=\"bar\", title=\"Orders by Region\")\n",
    "\n",
    "# %%\n",
    "# SKU distribution\n",
    "orders[\"sku\"].value_counts().plot(kind=\"barh\", title=\"SKU Frequency\")\n",
    "\n",
    "# %%\n",
    "# Merge with inventory for quick stock check\n",
    "inv_summary = inventory.groupby(\"sku\")[\"on_hand\"].sum()\n",
    "inv_summary.plot(kind=\"bar\", title=\"Total Inventory per SKU\")\n"
   ]
  }
 ],
 "metadata": {
  "language_info": {
   "name": "python"
  }
 },
 "nbformat": 4,
 "nbformat_minor": 5
}
