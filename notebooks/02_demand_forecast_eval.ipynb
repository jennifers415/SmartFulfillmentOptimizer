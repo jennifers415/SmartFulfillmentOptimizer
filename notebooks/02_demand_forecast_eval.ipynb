{
 "cells": [
  {
   "cell_type": "code",
   "execution_count": null,
   "id": "b308ebb2",
   "metadata": {
    "vscode": {
     "languageId": "plaintext"
    }
   },
   "outputs": [],
   "source": [
    "# %%\n",
    "import pandas as pd\n",
    "from lightgbm import LGBMRegressor\n",
    "from sklearn.metrics import mean_squared_error\n",
    "from sklearn.model_selection import train_test_split\n",
    "\n",
    "orders = pd.read_csv(\"../data/raw/synthetic_orders.csv\")\n",
    "orders[\"created_at\"] = pd.to_datetime(orders[\"created_at\"])\n",
    "\n",
    "# Aggregate demand by day + SKU\n",
    "daily_demand = (\n",
    "    orders.groupby([orders[\"created_at\"].dt.date, \"sku\"])[\"qty\"].sum().reset_index()\n",
    ")\n",
    "daily_demand.rename(columns={\"created_at\": \"date\", \"qty\": \"demand\"}, inplace=True)\n",
    "\n",
    "# %%\n",
    "# Simple features: day of week, SKU one-hot\n",
    "daily_demand[\"dow\"] = pd.to_datetime(daily_demand[\"date\"]).dt.dayofweek\n",
    "X = pd.get_dummies(daily_demand[[\"dow\", \"sku\"]], columns=[\"sku\"])\n",
    "y = daily_demand[\"demand\"]\n",
    "\n",
    "X_train, X_test, y_train, y_test = train_test_split(X, y, test_size=0.2, shuffle=False)\n",
    "\n",
    "# %%\n",
    "model = LGBMRegressor(n_estimators=200)\n",
    "model.fit(X_train, y_train)\n",
    "\n",
    "preds = model.predict(X_test)\n",
    "rmse = mean_squared_error(y_test, preds, squared=False)\n",
    "print(f\"RMSE: {rmse:.2f}\")\n",
    "\n",
    "# %%\n",
    "import matplotlib.pyplot as plt\n",
    "\n",
    "plt.plot(y_test.values, label=\"True\")\n",
    "plt.plot(preds, label=\"Predicted\")\n",
    "plt.legend()\n",
    "plt.title(\"Demand Forecast vs Actual\")\n",
    "plt.show()\n"
   ]
  }
 ],
 "metadata": {
  "language_info": {
   "name": "python"
  }
 },
 "nbformat": 4,
 "nbformat_minor": 5
}
